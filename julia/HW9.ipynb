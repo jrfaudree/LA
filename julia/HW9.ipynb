{
 "cells": [
  {
   "cell_type": "markdown",
   "id": "4a2d7b61-ac31-4f07-85ac-a51ca7a92ae3",
   "metadata": {},
   "source": [
    "# Homework 9 (Julia Problems)\n",
    "## Math 314 Spring 2024"
   ]
  },
  {
   "cell_type": "markdown",
   "id": "981bd612-4367-4d7a-8745-ce8b38910d0f",
   "metadata": {},
   "source": [
    "## Supplemental Problem **11.2**"
   ]
  },
  {
   "cell_type": "code",
   "execution_count": null,
   "id": "76ac065e-52a0-4a34-bc3a-2f011d2c296f",
   "metadata": {},
   "outputs": [],
   "source": [
    "# Build A and b here"
   ]
  },
  {
   "cell_type": "code",
   "execution_count": null,
   "id": "b2e6d486-1ce9-42a2-97e4-014d75508fbc",
   "metadata": {},
   "outputs": [],
   "source": [
    "# (a) Solve using backslash here"
   ]
  },
  {
   "cell_type": "markdown",
   "id": "58943016-6564-4216-9019-778c440552aa",
   "metadata": {},
   "source": [
    "When you solve $Ax=b$ numerically for $x$, the residual is $r=Ax-b$.  It measures how\n",
    "good a solution $x$ is. There will nearly always be a nonzero residual because of roundoff error.\n",
    "The problem asks you to compute the norm of the residual of your solution."
   ]
  },
  {
   "cell_type": "code",
   "execution_count": null,
   "id": "35fe2ee9-751d-4c54-9791-7addc4d62744",
   "metadata": {},
   "outputs": [],
   "source": [
    "# Verify part (a) residual is small here"
   ]
  },
  {
   "cell_type": "code",
   "execution_count": null,
   "id": "d05cbbc1-32df-4cde-bbf7-85f5ad095449",
   "metadata": {},
   "outputs": [],
   "source": [
    "# (b) Solve using inverse here"
   ]
  },
  {
   "cell_type": "code",
   "execution_count": null,
   "id": "956bc9ee-a79e-4c10-bb39-29e4b4a29878",
   "metadata": {},
   "outputs": [],
   "source": [
    "# Verify part (b) residual is small here"
   ]
  },
  {
   "cell_type": "code",
   "execution_count": 1,
   "id": "45bbc6ad-0479-4df1-b877-4c661d9ae0dc",
   "metadata": {},
   "outputs": [],
   "source": [
    "# Import just `qr` from `LinearAlgebra`\n",
    "import LinearAlgebra: qr\n",
    "\n",
    "# Solve using `qr` here"
   ]
  },
  {
   "cell_type": "code",
   "execution_count": null,
   "id": "7c341acb-0fd3-4a04-9aae-d5718b251126",
   "metadata": {},
   "outputs": [],
   "source": [
    "# Verify part (c) residual is small here"
   ]
  },
  {
   "cell_type": "code",
   "execution_count": null,
   "id": "7e2531da-bd73-487a-8622-e84d437377f7",
   "metadata": {},
   "outputs": [],
   "source": [
    "# Construction of matrix `A` goes here."
   ]
  },
  {
   "cell_type": "markdown",
   "id": "82c6441c-3dda-4659-8d43-b4f629766de5",
   "metadata": {},
   "source": [
    "## Problem 11.21"
   ]
  },
  {
   "cell_type": "markdown",
   "id": "b68f9093-9e18-425a-ab81-b279df524dc8",
   "metadata": {},
   "source": [
    "Quadrature is a way of numerically approximating an integral.\n",
    "\n",
    "To be concrete, we work with the interval $[-1,1]$, so we want to approximate\n",
    "$$\n",
    "\\alpha = \\int_{-1}^1 f(x)\\; dx\n",
    "$$\n",
    "\n",
    "The idea is to pick points $p_i$ in the interval and weights $w_i$ and then to \n",
    "estimate the integral with\n",
    "$$\n",
    "\\hat \\alpha = w_1 f(p_1) + \\cdots + w_n f(p_n)\n",
    "$$\n",
    "\n",
    "The points $p_i$ are called sample points or quadrature points and the weights are, well, the quadrature weights.\n",
    "\n",
    "In this problem we are given four quadrature points: $-0.6$, $-0.2$, $0.2$ and $0.6$.  The idea\n",
    "is to find good weights $w_1, \\cdots, w_4$ so that the approximation $\\hat \\alpha$ is perfect \n",
    "for polynomials of degree 0 through degree 3.  That is, if $f$  is a cubic polynomial, \n",
    "we require\n",
    "$$\n",
    "\\int_{-1}^1 f(x)\\; dx =  w_1 f(-0.6)+ w_2 f(-0.2) + w_3 f(0.2) +w_4 f(0.6)\n",
    "$$\n",
    "on the nose.\n",
    "\n",
    "By using the specific polynomials $f(x)=1$, $f(x)=x$, $f(x)=x^2$ and $f(x)=x^3$ we get \n",
    "four linear equations in four unknowns $w_i$ which we need to solve for.\n"
   ]
  },
  {
   "cell_type": "code",
   "execution_count": 30,
   "id": "bff07930-e3fb-4ebd-8f3e-5b31332f9be8",
   "metadata": {},
   "outputs": [
    {
     "data": {
      "text/plain": [
       "1×4 Matrix{Float64}:\n",
       " -0.6  -0.2  0.2  0.6"
      ]
     },
     "execution_count": 30,
     "metadata": {},
     "output_type": "execute_result"
    }
   ],
   "source": [
    "# Quadrature points as a row vector\n",
    "p = [-0.6  -0.2  0.2 0.6]"
   ]
  },
  {
   "cell_type": "markdown",
   "id": "aadb19d2-45f7-4a94-9c3c-360a121ae7dc",
   "metadata": {},
   "source": [
    "We set up a system $Aw = b$ to solve for the quadrature weights $w$"
   ]
  },
  {
   "cell_type": "code",
   "execution_count": null,
   "id": "e753b4d8-a7e9-4085-8ff0-4462c44c1ad0",
   "metadata": {},
   "outputs": [],
   "source": [
    "# Set up matrix A (can do this easily using block notation!)"
   ]
  },
  {
   "cell_type": "code",
   "execution_count": null,
   "id": "827a9c01-b6fe-40e5-82b2-0fd3ca8b53fa",
   "metadata": {},
   "outputs": [],
   "source": [
    "# Set up right hand side b"
   ]
  },
  {
   "cell_type": "code",
   "execution_count": null,
   "id": "3e4c785a-839b-41bc-bb1f-a6bae04dd838",
   "metadata": {},
   "outputs": [],
   "source": [
    "# Solve for weights"
   ]
  },
  {
   "cell_type": "markdown",
   "id": "3331a4a8-9e80-4b96-9a63-144abcf38959",
   "metadata": {},
   "source": [
    "Compute approximation of $\\int_{-1}^1 e^x\\;dx$ with this quadrature scheme"
   ]
  },
  {
   "cell_type": "code",
   "execution_count": null,
   "id": "ebdcd9b0-0fa3-4031-8415-c114f70b32e0",
   "metadata": {},
   "outputs": [],
   "source": [
    "# Compute approximate value of integral with a single dot product here"
   ]
  },
  {
   "cell_type": "markdown",
   "id": "a49bc099-9a5c-49c3-829b-2222bd492c83",
   "metadata": {},
   "source": [
    "Compute exact value of $\\int_{-1}^1 e^x\\; dx$ here"
   ]
  },
  {
   "cell_type": "code",
   "execution_count": null,
   "id": "d1effd5e-1fb5-46c4-94b8-3a25ebb9b3c4",
   "metadata": {},
   "outputs": [],
   "source": [
    "# Compute exact value here"
   ]
  }
 ],
 "metadata": {
  "kernelspec": {
   "display_name": "Julia 1.10.4",
   "language": "julia",
   "name": "julia-1.10"
  },
  "language_info": {
   "file_extension": ".jl",
   "mimetype": "application/julia",
   "name": "julia",
   "version": "1.10.4"
  }
 },
 "nbformat": 4,
 "nbformat_minor": 5
}
