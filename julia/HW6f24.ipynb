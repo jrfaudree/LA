{
 "cells": [
  {
   "cell_type": "markdown",
   "id": "4a2d7b61-ac31-4f07-85ac-a51ca7a92ae3",
   "metadata": {},
   "source": [
    "# Homework 6 (Julia Problems)\n",
    "## Math 314 Fall 2024"
   ]
  },
  {
   "cell_type": "markdown",
   "id": "981bd612-4367-4d7a-8745-ce8b38910d0f",
   "metadata": {},
   "source": [
    "## Problem 7.14 (again)\n",
    "\n",
    "The convolution $a*b$ of vectors $a$ and $b$ can be\n",
    "written in terms of matrix multiplication.  This isn't the\n",
    "most efficient way to perform convolution, but thinking about the matrix form can help you learn how convolution works.\n",
    "\n",
    "If $a$ is a 4-vector, we define\n",
    "$$\n",
    "T_3(a) = \\begin{bmatrix} \n",
    "a_1 & 0 & 0 \\\\\n",
    "a_2 & a_1 & 0\\\\\n",
    "a_3 & a_2 & a_1\\\\\n",
    "a_4 & a_3 & a_2 \\\\\n",
    "0 & a_4 & a_3 \\\\\n",
    "0 & 0 & a_4\n",
    "\\end{bmatrix}\n",
    "$$\n",
    "\n",
    "The subscript 3 indicates the number of columns.\n",
    "\n",
    "The point of the matrix $T_3(a)$ is that it lets you compute convolution.\n",
    "Specifically, if $b$ is a 3-vector then $a*b$ is the \n",
    "same as the matrix multiplication $T_3(a) b$.\n",
    "\n",
    "The matrix $T_3(a)$ is called a Toeplitz matrix.  Your \n",
    "first job is going to be to write a function that creates Toeplitz matrices so that you can compute convolution. But I need to explain a few things about coding first, in case you haven't run into loops before."
   ]
  },
  {
   "cell_type": "markdown",
   "id": "0ec1c2c1-1911-4d35-8e8e-215e87796454",
   "metadata": {},
   "source": [
    "### Iteration\n",
    "The key new skill needed is called iteration. Here are some of the basics. Suppose we want to print out all the numbers from 1 to 10. Not a super useful task, but its an ok place to start.  To do this we use something called a `for` loop.  It looks like this:\n",
    "\n",
    "```\n",
    "for k in 1:10\n",
    "  # Do stuff here that depends on the value of `k`\n",
    "  println(k)\n",
    "end\n",
    "```\n",
    "\n",
    "In a `for` loop, we repeat the body of the loop (in this case just the `println(k)`) a number of times.  The `k in 1:10` part indicates that the variable `k` is going to change each time we go around the loop.  The first time through, the value is 1. The second time it is 2.  The final time through the loop the value is 10.  Here are the results:"
   ]
  },
  {
   "cell_type": "code",
   "execution_count": 1,
   "id": "7e2531da-bd73-487a-8622-e84d437377f7",
   "metadata": {},
   "outputs": [
    {
     "name": "stdout",
     "output_type": "stream",
     "text": [
      "1\n",
      "2\n",
      "3\n",
      "4\n",
      "5\n",
      "6\n",
      "7\n",
      "8\n",
      "9\n",
      "10\n"
     ]
    }
   ],
   "source": [
    "for k in 1:10\n",
    "    println(k)\n",
    "end"
   ]
  },
  {
   "cell_type": "markdown",
   "id": "92b3480e-adc9-45eb-9826-dfb061de215b",
   "metadata": {},
   "source": [
    "### Making a matrix\n",
    "\n",
    "Let's construct an $n\\times n$ matrix $A$ that looks like the \n",
    "identity, except that instead of 1's on the diagonal, $A_{kk}=k$.\n",
    "\n",
    "Here's code that does this, with the desired size of the matrix kept \n",
    "in the variable `n`.  Note that we first create a zero matrix of the right shape, and then we update the nonzero entries in a loop."
   ]
  },
  {
   "cell_type": "code",
   "execution_count": 2,
   "id": "764f699a-a6ed-4c8d-837f-210cc2fd183c",
   "metadata": {},
   "outputs": [
    {
     "data": {
      "text/plain": [
       "5×5 Matrix{Float64}:\n",
       " 1.0  0.0  0.0  0.0  0.0\n",
       " 0.0  2.0  0.0  0.0  0.0\n",
       " 0.0  0.0  3.0  0.0  0.0\n",
       " 0.0  0.0  0.0  4.0  0.0\n",
       " 0.0  0.0  0.0  0.0  5.0"
      ]
     },
     "execution_count": 2,
     "metadata": {},
     "output_type": "execute_result"
    }
   ],
   "source": [
    "n = 5\n",
    "A = zeros(n, n)\n",
    "for k in 1:n\n",
    "    A[k,k] = k\n",
    "end\n",
    "A"
   ]
  },
  {
   "cell_type": "markdown",
   "id": "25a972e5-fcd2-425f-b010-43e2a1bc7e96",
   "metadata": {},
   "source": [
    "Here's another example, a matrix that has ones on the other diagonal, not the main diagonal. (You should be able to articulate what the result of $Ax$ is if $x$ is a vector...)"
   ]
  },
  {
   "cell_type": "code",
   "execution_count": 4,
   "id": "56f4cfc1-1664-47cd-bc3a-2777ba51315c",
   "metadata": {},
   "outputs": [
    {
     "data": {
      "text/plain": [
       "5×5 Matrix{Float64}:\n",
       " 0.0  0.0  0.0  0.0  1.0\n",
       " 0.0  0.0  0.0  1.0  0.0\n",
       " 0.0  0.0  1.0  0.0  0.0\n",
       " 0.0  1.0  0.0  0.0  0.0\n",
       " 1.0  0.0  0.0  0.0  0.0"
      ]
     },
     "execution_count": 4,
     "metadata": {},
     "output_type": "execute_result"
    }
   ],
   "source": [
    "n = 5\n",
    "A = zeros(n, n)\n",
    "for j in 1:n # for each column j\n",
    "    # Set the correct entry of the column to a 1. \n",
    "    # The formula is a little tricky:\n",
    "    # In column 1, the row with a 1 should be n\n",
    "    # In column 2, the row with a 1 should be n - 1\n",
    "    # In column 3, the row with a 1 should be n - 2\n",
    "    #\n",
    "    # Stare at this pattern long enough and you should convince yourself\n",
    "    # that in column j the 1 goes in row n - j + 1\n",
    "    A[n-j+1, j] = 1\n",
    "end\n",
    "A"
   ]
  },
  {
   "cell_type": "markdown",
   "id": "894bfceb-6ee6-435a-a464-1490ce0110c9",
   "metadata": {},
   "source": [
    "It's not unusual to have nested loops.\n",
    "Suppose you want a matrix $A$ with $A_{ij}=i-j$.\n",
    "Here's how:"
   ]
  },
  {
   "cell_type": "code",
   "execution_count": 64,
   "id": "164e1bf5-0a7d-41aa-9f2d-795595f3e592",
   "metadata": {
    "scrolled": true
   },
   "outputs": [
    {
     "data": {
      "text/plain": [
       "5×5 Matrix{Float64}:\n",
       " 0.0  -1.0  -2.0  -3.0  -4.0\n",
       " 1.0   0.0  -1.0  -2.0  -3.0\n",
       " 2.0   1.0   0.0  -1.0  -2.0\n",
       " 3.0   2.0   1.0   0.0  -1.0\n",
       " 4.0   3.0   2.0   1.0   0.0"
      ]
     },
     "execution_count": 64,
     "metadata": {},
     "output_type": "execute_result"
    }
   ],
   "source": [
    "n = 5\n",
    "A = zeros(n, n)\n",
    "for i in 1:n # For each row `i`\n",
    "    for j in 1:n # For each column `j`\n",
    "        A[i,j] = i-j\n",
    "    end\n",
    "end\n",
    "A\n"
   ]
  },
  {
   "cell_type": "markdown",
   "id": "405d4116-4b74-4737-aa1b-1d88647797e8",
   "metadata": {},
   "source": [
    "### Your turn: making a Toepliz matrix.\n",
    "\n",
    "Ok, finally it's your turn.  Write a function `toeplitz`\n",
    "that takes two arguments, a vector $a$ and an integer $n$\n",
    "and returns the matrix $T_n(a)$.  If $a$ has dimenion $m$,\n",
    "the matrix will be an $(n+m-1) \\times n$ matrix.  \n",
    "The first column will start with all the entries of $a$\n",
    "and then remaining zeros.  The second column will start with\n",
    "one zero, and then the entries of $a$ and then remaining zeros. The third column will start with two zeros, and then the entries of $a$ and then remaining zeros.  Etc.  \n",
    "\n",
    "The natural way to do this iteration is to first iterate over the columns.  Then, for each column, copy $a$ into the right location. The most straightforward way to do this (though not the slickest, and that's ok!) is to iterate over the size of $a$ and copy the corresponding entry of $a$ into the correct spot in the column.\n",
    "\n",
    "I've started the code for you. Your job is to fill in the body of the loop."
   ]
  },
  {
   "cell_type": "code",
   "execution_count": 5,
   "id": "286abf85-dec3-43c3-9ad1-f8b8ab9a9c6d",
   "metadata": {},
   "outputs": [
    {
     "data": {
      "text/plain": [
       "toeplitz (generic function with 1 method)"
      ]
     },
     "execution_count": 5,
     "metadata": {},
     "output_type": "execute_result"
    }
   ],
   "source": [
    "function toeplitz(a, n)\n",
    "\n",
    "    # Determine the dimension of `a`\n",
    "    m = length(a)\n",
    "\n",
    "    # Make an all zeros matrix of the right dimensions.\n",
    "    A = zeros(m+n-1, n)\n",
    "\n",
    "    # Now fill in the non-zero entries of `A`\n",
    "\n",
    "    for j in 1:n # For each column `j`\n",
    "        for k in 1:m # for each entry of the vector `a`\n",
    "\n",
    "            # Your code goes here.  \n",
    "            # Fill in an appropriate entry \n",
    "            # of `A` depending on `j` and `k`\n",
    "\n",
    "        end\n",
    "    end \n",
    "\n",
    "    return A\n",
    "end"
   ]
  },
  {
   "cell_type": "markdown",
   "id": "e1a03fd0-9bb0-4673-b237-39ed280206a9",
   "metadata": {},
   "source": [
    "Test that your function works by computing $T_3(a)$ with $a=(1,2,3,4)$.\n",
    "\n",
    "The call `toeplitz( [1, 2, 3, 4], 3)` should yield:\n",
    "\n",
    "```\n",
    "6×3 Matrix{Float64}:\n",
    " 1.0  0.0  0.0\n",
    " 2.0  1.0  0.0\n",
    " 3.0  2.0  1.0\n",
    " 4.0  3.0  2.0\n",
    " 0.0  4.0  3.0\n",
    " 0.0  0.0  4.0\n",
    "```"
   ]
  },
  {
   "cell_type": "code",
   "execution_count": null,
   "id": "f3036904-7576-4a4d-a753-e7732c830c5e",
   "metadata": {},
   "outputs": [],
   "source": [
    "toeplitz([1, 2, 3, 4], 3)"
   ]
  },
  {
   "cell_type": "markdown",
   "id": "81fecbff-d04e-4919-87d7-ff1a1e240e27",
   "metadata": {},
   "source": [
    "### Rainfall example\n",
    "\n",
    "Once your `toeplitz` function works, we can compute \n",
    "convoltion with the vector $g$ from problem 7.14 to determine river heights."
   ]
  },
  {
   "cell_type": "code",
   "execution_count": null,
   "id": "14c51f79-ced4-40b7-b64e-ee961296ba07",
   "metadata": {},
   "outputs": [],
   "source": [
    "g = [ 0.1, 0.4, 0.5, 0.2 ]\n",
    "G = toeplitz(g, 6)"
   ]
  },
  {
   "cell_type": "markdown",
   "id": "7d085905-0e31-4a63-a65c-94c3d746ff6e",
   "metadata": {},
   "source": [
    "The cell below will plot the effect of one inch of rainfall\n",
    "on day 1 according to the model above. Run the cell below to \n",
    "see if you obtain the right graph!"
   ]
  },
  {
   "cell_type": "code",
   "execution_count": null,
   "id": "9393a9f9-76a3-4f89-8d87-1bcda37c38cc",
   "metadata": {},
   "outputs": [],
   "source": [
    "import Plots\n",
    "\n",
    "r = [ 1, 0, 0, 0, 0, 0 ]\n",
    "h = G * r\n",
    "day = 1:9\n",
    "\n",
    "Plots.plot(day, h, marker=:circle,\n",
    "    title=\"River height anomaly over time\",\n",
    "    xlabel=\"Day\", ylabel=\"height anomaly (in)\",\n",
    "    legend=nothing)"
   ]
  },
  {
   "attachments": {
    "9250fb04-7c76-43fe-9db7-ccc34cc3958f.png": {
     "image/png": "[encoded data removed]"
    }
   },
   "cell_type": "markdown",
   "id": "6bc9f0f8-4a72-4cd2-ba3c-1ddf5bb85163",
   "metadata": {},
   "source": [
    "If all goes well, your plot should look like this:\n",
    "![image.png](attachment:9250fb04-7c76-43fe-9db7-ccc34cc3958f.png)"
   ]
  },
  {
   "cell_type": "markdown",
   "id": "33fe48a2-7295-4b91-b4ca-25c355c4ec12",
   "metadata": {},
   "source": [
    "Generate a similar graph but with two time series. \n",
    "* The first has \n",
    "one inch of rainfall on day one and nothing else, just like the above.\n",
    "* The second has two inches of rainfall on day 2, but nothing else\n",
    "\n",
    "Recall that to layer a second plot on an existing one requires \"!\""
   ]
  },
  {
   "cell_type": "code",
   "execution_count": null,
   "id": "7c0faf2c-5775-47b5-948a-13a0c6547236",
   "metadata": {},
   "outputs": [],
   "source": [
    "# Your plot code goes here.\n"
   ]
  },
  {
   "cell_type": "markdown",
   "id": "0714c05d-b3f0-4de1-9648-8ec0a8b1097e",
   "metadata": {},
   "source": [
    "Generate a similar graph, but now with one time series corresponding to one inch of rainfall on day 1 and also two inches on day 2."
   ]
  },
  {
   "cell_type": "code",
   "execution_count": null,
   "id": "57ce5e77-d7df-4549-876e-2a2056f086dc",
   "metadata": {},
   "outputs": [],
   "source": [
    "# Your plot code goes here.\n"
   ]
  },
  {
   "cell_type": "markdown",
   "id": "b5fdf492-6fc2-4ea2-9381-b5e8fc8676a1",
   "metadata": {},
   "source": [
    "Generate a similar graph, but now with one time series corresponding to one inch of rainfall on day 1 and one inch of rainfall on day 6."
   ]
  },
  {
   "cell_type": "code",
   "execution_count": null,
   "id": "e34ce176-c8f5-4f43-abeb-1517db746e07",
   "metadata": {},
   "outputs": [],
   "source": [
    "# Your plot code goes here.\n"
   ]
  },
  {
   "cell_type": "markdown",
   "id": "c7f2b495-49ee-430e-904a-9a8a79c4ca6e",
   "metadata": {},
   "source": [
    "## Problem **S7.3**"
   ]
  },
  {
   "cell_type": "markdown",
   "id": "608df681-056a-4390-9995-437b002f5e01",
   "metadata": {},
   "source": [
    "From the supplemental problem set:\n",
    "\n",
    "\"Audio filtering. When the vector $x$ represents an audio signal, and $h$ is another (usually much shorter) vector, the convolution $y = h * x$ is called the filtered version of $x$, and $h$ is called the filter impulse response. Filters can be used to smooth out audio signals (which reduces high frquency sounds and enhances low frequency sounds), or to sharpen them (which enhances high frequency sounds and reduces low frequency sounds), as in audio bass and treble tone controls. In this problem you will experiment with, and listen to, the effects of several audio filters.\""
   ]
  },
  {
   "cell_type": "markdown",
   "id": "b42d78ee-9dea-4c09-98dd-3af13be05092",
   "metadata": {},
   "source": [
    "### Convolution done right\n",
    "\n",
    "Convolution is computation intensive.  However, there is a nearly miraculously fast way to do convolution that takes advantage of something called the Fast Fourier Transform. We'll talk about that later in the course.  All you need to know is that to do fast convolution, you need to add a package, `DSP`, which stands for \"Digital Signal Processing\".\n"
   ]
  },
  {
   "cell_type": "code",
   "execution_count": null,
   "id": "cec10241-7697-4883-9371-41aa20170afe",
   "metadata": {},
   "outputs": [],
   "source": [
    "import Pkg\n",
    "Pkg.add(\"DSP\")\n",
    "import DSP"
   ]
  },
  {
   "cell_type": "markdown",
   "id": "ac30ca64-3521-4d8f-9576-9f864d949d27",
   "metadata": {},
   "source": [
    "To compute the convolution of two vectors, you use the `DSP.conv` function, like this:"
   ]
  },
  {
   "cell_type": "code",
   "execution_count": 72,
   "id": "69f64dff-7339-49a2-b0d8-6c57ae65e060",
   "metadata": {},
   "outputs": [
    {
     "data": {
      "text/plain": [
       "5-element Vector{Int64}:\n",
       "  1\n",
       "  4\n",
       " 10\n",
       " 12\n",
       "  9"
      ]
     },
     "execution_count": 72,
     "metadata": {},
     "output_type": "execute_result"
    }
   ],
   "source": [
    "a = [1, 2, 3]\n",
    "b = [1, 2, 3]\n",
    "\n",
    "DSP.conv(a,b)"
   ]
  },
  {
   "cell_type": "markdown",
   "id": "797f3eb1-1d9e-47d0-846f-80a8247828de",
   "metadata": {},
   "source": [
    "We can check this is correct by using old-school multiplication by at Toeplitz matrix:"
   ]
  },
  {
   "cell_type": "code",
   "execution_count": 76,
   "id": "db7ec407-3472-40ea-bbd9-15b18d6280c7",
   "metadata": {},
   "outputs": [
    {
     "data": {
      "text/plain": [
       "5-element Vector{Int64}:\n",
       "  1\n",
       "  4\n",
       " 10\n",
       " 12\n",
       "  9"
      ]
     },
     "execution_count": 76,
     "metadata": {},
     "output_type": "execute_result"
    }
   ],
   "source": [
    "\n",
    "T = [1 0 0; 2 1 0; 3 2 1; 0 3 2; 0 0 3]\n",
    "T*b"
   ]
  },
  {
   "cell_type": "markdown",
   "id": "8f7eb3c6-a326-45cb-8536-e83c6c59d315",
   "metadata": {},
   "source": [
    "## Reading and Playing `.wav` files\n",
    "\n",
    "I've provided you with an audio file, `U2-WOWY.wav`, which is 17 seconds of the classic U2 song from 1987,\n",
    "*With or Without You*.  To read the file, play it, and work with the audio signal as a vector, we need the `WAV` package, which allows you to work with `.wav` files."
   ]
  },
  {
   "cell_type": "code",
   "execution_count": 1,
   "id": "abcdc367-2c72-489a-9c3c-87cfb6907903",
   "metadata": {},
   "outputs": [
    {
     "name": "stderr",
     "output_type": "stream",
     "text": [
      "\u001b[32m\u001b[1m    Updating\u001b[22m\u001b[39m registry at `~/.julia/registries/General.toml`\n",
      "\u001b[32m\u001b[1m   Resolving\u001b[22m\u001b[39m package versions...\n",
      "\u001b[32m\u001b[1m  No Changes\u001b[22m\u001b[39m to `~/Library/CloudStorage/GoogleDrive-damaxwell@alaska.edu/My Drive/Classes/F314/Project.toml`\n",
      "\u001b[32m\u001b[1m  No Changes\u001b[22m\u001b[39m to `~/Library/CloudStorage/GoogleDrive-damaxwell@alaska.edu/My Drive/Classes/F314/Manifest.toml`\n"
     ]
    }
   ],
   "source": [
    "import Pkg\n",
    "Pkg.add(\"WAV\")\n",
    "import WAV"
   ]
  },
  {
   "cell_type": "markdown",
   "id": "c0121f0c-192b-4cf4-b030-c5527b70cea4",
   "metadata": {},
   "source": [
    "You can read in the audio snippet as follows.  The variable `x` contains the signal data, and the variable `f` is the frequency in Hz."
   ]
  },
  {
   "cell_type": "code",
   "execution_count": 2,
   "id": "2c8ff7ff-242c-45eb-bd44-cfe46fc752a8",
   "metadata": {},
   "outputs": [],
   "source": [
    "x, f = WAV.wavread(\"U2-WOWU.wav\");"
   ]
  },
  {
   "cell_type": "markdown",
   "id": "e5bbd4ec-09d5-45d3-8f4e-20e8b08cedb3",
   "metadata": {},
   "source": [
    "The signal is a standard frequency for audio data, 44.1kHz:"
   ]
  },
  {
   "cell_type": "code",
   "execution_count": 3,
   "id": "0ba0fd5b-a30d-4720-86e6-42929d34dd86",
   "metadata": {},
   "outputs": [
    {
     "data": {
      "text/plain": [
       "44100.0f0"
      ]
     },
     "execution_count": 3,
     "metadata": {},
     "output_type": "execute_result"
    }
   ],
   "source": [
    "f"
   ]
  },
  {
   "cell_type": "markdown",
   "id": "0a588512-4141-4121-9767-c2e55caaa8ab",
   "metadata": {},
   "source": [
    "You can play the sample like this:"
   ]
  },
  {
   "cell_type": "code",
   "execution_count": 4,
   "id": "43d79815-75b7-4d59-83e3-4bc6e9e701f0",
   "metadata": {},
   "outputs": [],
   "source": [
    "WAV.wavplay(x, f);"
   ]
  },
  {
   "cell_type": "markdown",
   "id": "d4558798-d877-452c-8c1f-a1f6cd3422e7",
   "metadata": {},
   "source": [
    "### Part a: Smoothing Filter\n",
    "\n",
    "The following makes a 1ms smoothing filter.  Because the signal has a frequency of rougly 44kHz, 44000 samples is roughly a second, and 44 samples is rougly a millisecond.  Convolving with the vector `h_smooth` below is therefore averaging the signal over a 1 ms window at each sample."
   ]
  },
  {
   "cell_type": "code",
   "execution_count": 5,
   "id": "be7a3330-539a-4a9b-8748-c28674d69507",
   "metadata": {},
   "outputs": [],
   "source": [
    "import DSP\n",
    "\n",
    "h_smooth = 1 / 44 * ones(44);\n",
    "output = DSP.conv(h_smooth, x);\n",
    "WAV.wavplay(output, f);"
   ]
  },
  {
   "cell_type": "markdown",
   "id": "965fa1ec-8a51-40a7-8748-4719a1f5d4ea",
   "metadata": {},
   "source": [
    "Your job: \n",
    "\"Listen to the output signal and briefly describe the effect of convolving `h_smooth` with `x` in one sentence.\""
   ]
  },
  {
   "cell_type": "markdown",
   "id": "9328715b-b8a3-498e-a2a2-4229fe5fb891",
   "metadata": {},
   "source": [
    "**Your response goes here**"
   ]
  },
  {
   "cell_type": "markdown",
   "id": "fc1de18f-0e5e-4dcf-acff-6057e3622d4d",
   "metadata": {},
   "source": [
    "### Part b: Echo Filter\n",
    "\n",
    "This is part (b) of the supplemental problem, but modified just a bit:\n",
    "\n",
    "What filter (i.e., vector) $h^{\\rm echo}$ has the property that \n",
    "$h^{\\rm echo} * x$ consists of the original recording, plus an echo of the original recording 0.25 seconds delayed, with **three-quarters** the original amplitude? Since sound travels at about 340m/s, this is equivalent to the effect of hearing an echo from a wall about 42.5m away. Construct $h^{\\rm echo}$ using Julia and listen to the output signal $h^{\\rm echo} * x$ to confirm the effect.\n",
    "Form and listen to the signal $h^{\\rm echo} * h^{\\rm echo} * x$ and very briefly describe what you hear.\n",
    "\n",
    "**Hint.** The entries of the output signal $y = h^{\\rm echo} * x$\n",
    "satisfy $y_i = x_i + 0.75x_{i−k}$, where $k$ is the number of samples \n",
    "in 0.25 seconds.\"\n",
    "\n"
   ]
  },
  {
   "cell_type": "code",
   "execution_count": 124,
   "id": "f2381bf2-0405-4b1b-8099-879d9dc61e33",
   "metadata": {},
   "outputs": [],
   "source": [
    "# Your code here to make `h_echo`\n"
   ]
  },
  {
   "cell_type": "code",
   "execution_count": 125,
   "id": "b4eff686-9b58-43bf-9b3e-0a9d21685c77",
   "metadata": {},
   "outputs": [],
   "source": [
    "# Your code here to convolve to make x_echo and then play x_echo\n"
   ]
  },
  {
   "cell_type": "code",
   "execution_count": 126,
   "id": "5ce60cc5-83f6-47d2-ac9a-86d922376fbc",
   "metadata": {},
   "outputs": [],
   "source": [
    "# Your code here to doubly convolve ( h_echo * ( h_echo * x) ) and play.\n"
   ]
  },
  {
   "cell_type": "markdown",
   "id": "c1253a1d-68d1-46b7-9f0c-86ac5850075e",
   "metadata": {},
   "source": [
    "**Your description here**"
   ]
  }
 ],
 "metadata": {
  "kernelspec": {
   "display_name": "Julia 1.10.4",
   "language": "julia",
   "name": "julia-1.10"
  },
  "language_info": {
   "file_extension": ".jl",
   "mimetype": "application/julia",
   "name": "julia",
   "version": "1.10.4"
  }
 },
 "nbformat": 4,
 "nbformat_minor": 5
}
