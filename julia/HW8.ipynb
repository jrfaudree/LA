{
 "cells": [
  {
   "cell_type": "markdown",
   "id": "4a2d7b61-ac31-4f07-85ac-a51ca7a92ae3",
   "metadata": {},
   "source": [
    "# Homework 8 (Julia Problems)\n",
    "## Math 314 Fall 2024"
   ]
  },
  {
   "cell_type": "markdown",
   "id": "981bd612-4367-4d7a-8745-ce8b38910d0f",
   "metadata": {},
   "source": [
    "## Problem 10.21 Revisted\n",
    "\n",
    "The point of this exercise is to implement the ideas of problem 10.21.  Note however that instead of quadratic polynomials, we will work with **cubic** polynomials."
   ]
  },
  {
   "cell_type": "markdown",
   "id": "07a80fb6-791b-4751-a4e0-ff13184f26f0",
   "metadata": {},
   "source": [
    "### Matrix Construction\n",
    "\n",
    "We represent $p(x)$ by the vector $(c_1, c_2, c_3, c_4)$ of coefficients, so $p(x) = c_1 + c_2 x + c_3 x^2 + c_4 x^3$.  Similarly, $q(x)$ is represented by $(d_1, d_2, d_3, d_4)$.\n",
    "\n",
    "Build a 4x4 matrix $A$ in Julia such that $c^T A d$ is the value of $\\int_0^1 p(x) q(x) \\ dx$."
   ]
  },
  {
   "cell_type": "code",
   "execution_count": null,
   "id": "7e2531da-bd73-487a-8622-e84d437377f7",
   "metadata": {},
   "outputs": [],
   "source": [
    "# Construction of matrix `A` goes here."
   ]
  },
  {
   "cell_type": "markdown",
   "id": "47b022ad-167a-49ae-b515-93623969eba1",
   "metadata": {},
   "source": [
    "### Test that it works\n",
    "\n",
    "Test that your matrix $A$ works for $p(x) = 1 + x + x^2/2 + x^3/6$ and \n",
    "$q(x) = x - x^3/6$.  You are welcome to use any tool (Wolfram Alpha, a hand computation, whatever)\n",
    "to compute $\\int_0^1 p(x) q(x)\\; dx$ to compare your output with.\n"
   ]
  },
  {
   "cell_type": "code",
   "execution_count": null,
   "id": "319b06b7-af41-4728-9f70-de8d6f944cd1",
   "metadata": {},
   "outputs": [],
   "source": [
    "# Computation of integral goes here\n"
   ]
  },
  {
   "cell_type": "markdown",
   "id": "6897f726-0c3e-4a1b-aa10-4a570b8dcd87",
   "metadata": {},
   "source": [
    "## Challenge (no points)\n",
    "\n",
    "Compute, using integration by parts, $\\int_0^1 e^x \\sin(x)\\; dx$ and express as a decimal number.  Then explain why you were asked to do this..."
   ]
  }
 ],
 "metadata": {
  "kernelspec": {
   "display_name": "Julia 1.10.4",
   "language": "julia",
   "name": "julia-1.10"
  },
  "language_info": {
   "file_extension": ".jl",
   "mimetype": "application/julia",
   "name": "julia",
   "version": "1.10.4"
  }
 },
 "nbformat": 4,
 "nbformat_minor": 5
}
