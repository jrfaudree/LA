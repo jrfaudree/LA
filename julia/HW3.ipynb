{
 "cells": [
  {
   "cell_type": "markdown",
   "id": "4a2d7b61-ac31-4f07-85ac-a51ca7a92ae3",
   "metadata": {},
   "source": [
    "# Homework 3 (Julia Problems)\n",
    "## Math 314 Fall 2024\n",
    "\n",
    "The problems on this set are designed to teach you some Julia skills that will come in handy for future assignments.\n"
   ]
  },
  {
   "cell_type": "markdown",
   "id": "981bd612-4367-4d7a-8745-ce8b38910d0f",
   "metadata": {},
   "source": [
    "## Problem S3.2"
   ]
  },
  {
   "cell_type": "markdown",
   "id": "04cd119a-4b67-42cd-9fc7-8072a62f6569",
   "metadata": {},
   "source": [
    "This is problem 3.2 from the supplemental collection. I've filled in some of the data entry; you get to do the comptuation.\n",
    "\n",
    "The vector $a$:"
   ]
  },
  {
   "cell_type": "code",
   "execution_count": 1,
   "id": "14c51f79-ced4-40b7-b64e-ee961296ba07",
   "metadata": {},
   "outputs": [
    {
     "data": {
      "text/plain": [
       "3-element Vector{Int64}:\n",
       " 1\n",
       " 3\n",
       " 4"
      ]
     },
     "execution_count": 1,
     "metadata": {},
     "output_type": "execute_result"
    }
   ],
   "source": [
    "a = [1, 3, 4]"
   ]
  },
  {
   "cell_type": "markdown",
   "id": "a05cbe1a-d8f3-45c0-995f-a7bde5a090b8",
   "metadata": {},
   "source": [
    "The vectors $x_1$ through $x_4$:"
   ]
  },
  {
   "cell_type": "code",
   "execution_count": 2,
   "id": "721459ac-3871-4d33-af00-610e85ed555f",
   "metadata": {},
   "outputs": [],
   "source": [
    "x1  = [4, 3, 5]; x2 = [0.4, 10, 50]; x3 = [1, 4, 10]; x4 = [30, 40, 50];"
   ]
  },
  {
   "cell_type": "markdown",
   "id": "a7df7ac8-bf85-4d95-bfe5-765e2bcbcdce",
   "metadata": {},
   "source": [
    "Your first job: find the nearest vector $x_k$ to the vector $a$, and report the distance.\n",
    "\n",
    "Hint: There is a fuction **findmin(v)** that takes a vector,v, and returns a 2-vector consisting of the minimum entry in v and its position in v."
   ]
  },
  {
   "cell_type": "code",
   "execution_count": null,
   "id": "41609361-ba66-4e9c-ba98-c211775773ad",
   "metadata": {},
   "outputs": [],
   "source": []
  },
  {
   "cell_type": "markdown",
   "id": "e2c3944b-bd8a-4383-94e4-b1410b0123bd",
   "metadata": {},
   "source": [
    "Your second job: find the vector $x_k$ that makes the smallest angle to $a$ and report that angle in **degrees**."
   ]
  },
  {
   "cell_type": "code",
   "execution_count": null,
   "id": "b5f27b83-d064-4f68-b2d8-75c2a4612a87",
   "metadata": {},
   "outputs": [],
   "source": []
  },
  {
   "cell_type": "markdown",
   "id": "1e00c01a-cb12-4296-8c73-727da876e76d",
   "metadata": {},
   "source": [
    "## Problem J3.1\n",
    "\n",
    "When we have a list of vectors it can be useful to combine them into a two-index object called a matrix. Here's how.\n",
    "\n",
    "First, define the same vectors $x_1$ through $x_4$ as in the previous problem."
   ]
  },
  {
   "cell_type": "code",
   "execution_count": 3,
   "id": "af572a8c-a0c4-4d8c-983f-f5e1cd3a1870",
   "metadata": {},
   "outputs": [],
   "source": [
    "x1  = [4, 3, 5]; x2 = [0.4, 10, 50]; x3 = [1, 4, 10]; x4 = [30, 40, 50];"
   ]
  },
  {
   "cell_type": "markdown",
   "id": "de725ea6-32c2-4da7-8e83-fe04ab48cdd2",
   "metadata": {},
   "source": [
    "Now use the `hcat` (horizontal concatenation) command to make the matrix:"
   ]
  },
  {
   "cell_type": "code",
   "execution_count": 4,
   "id": "03841dba-0341-4ebe-895a-36657c5b0358",
   "metadata": {},
   "outputs": [
    {
     "data": {
      "text/plain": [
       "3×4 Matrix{Float64}:\n",
       " 4.0   0.4   1.0  30.0\n",
       " 3.0  10.0   4.0  40.0\n",
       " 5.0  50.0  10.0  50.0"
      ]
     },
     "execution_count": 4,
     "metadata": {},
     "output_type": "execute_result"
    }
   ],
   "source": [
    "X = hcat( x1, x2, x3, x4)"
   ]
  },
  {
   "cell_type": "markdown",
   "id": "6a22cc08-5390-44a8-9a35-36b6313b5b5a",
   "metadata": {},
   "source": [
    "Notice that the first column of the matrix is the vector $x_1$.  The fourth column is the vector $x_4$.  Of course, we didn't have to use `hcat`; we could have just entered this matrix directly.\n",
    "\n",
    "The rule for indexing a matrix works like this: `X[row, column]`, so `X[2, 4]` is the entry of `X` in row 2, column 4 (which is 40 for this matrix).\n",
    "\n",
    "You can access a whole column of a matrix like this:"
   ]
  },
  {
   "cell_type": "code",
   "execution_count": 5,
   "id": "81f22ed0-b798-4085-94cb-49921d7eb850",
   "metadata": {},
   "outputs": [
    {
     "data": {
      "text/plain": [
       "3-element Vector{Float64}:\n",
       " 4.0\n",
       " 3.0\n",
       " 5.0"
      ]
     },
     "execution_count": 5,
     "metadata": {},
     "output_type": "execute_result"
    }
   ],
   "source": [
    "X[:,1]"
   ]
  },
  {
   "cell_type": "markdown",
   "id": "c163f4a6-6ff2-4192-9f08-60d89e7f2c15",
   "metadata": {},
   "source": [
    "The colon means \"all the things\", so `X[:,1]` is all rows and first column, exactly the vector $x_1$."
   ]
  },
  {
   "cell_type": "markdown",
   "id": "612922dd-f0db-466d-a3a0-0f6b598dd074",
   "metadata": {},
   "source": [
    "### Part (a)\n",
    "\n",
    "Compute the **rms** of the third column of the matrix `X` defined above.  You should extract the third column using colon notation.\n",
    "\n",
    "Recall from the text that **rms** stands for root-mean-square and is the square root of the average of the squares."
   ]
  },
  {
   "cell_type": "code",
   "execution_count": null,
   "id": "1dde3558-cfc8-493f-876a-2ee8453d85b9",
   "metadata": {},
   "outputs": [],
   "source": [
    "# compute RMS here"
   ]
  },
  {
   "cell_type": "markdown",
   "id": "e4953fd0-2379-4d3d-a965-71fb2131d042",
   "metadata": {},
   "source": [
    "### Part (b)\n",
    "\n",
    "Find the inner product of the first column of `X` and the last column of `X`. You should begin by extracting the two vectors out of `X` using colon notation."
   ]
  },
  {
   "cell_type": "code",
   "execution_count": null,
   "id": "ae6e50fe-5ab5-41bd-a1c9-d384f64de218",
   "metadata": {},
   "outputs": [],
   "source": [
    "# compute inner product here."
   ]
  }
 ],
 "metadata": {
  "kernelspec": {
   "display_name": "Julia 1.10.4",
   "language": "julia",
   "name": "julia-1.10"
  },
  "language_info": {
   "file_extension": ".jl",
   "mimetype": "application/julia",
   "name": "julia",
   "version": "1.10.4"
  }
 },
 "nbformat": 4,
 "nbformat_minor": 5
}
