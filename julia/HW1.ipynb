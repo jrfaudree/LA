{
 "cells": [
  {
   "cell_type": "markdown",
   "id": "8d4ada6e-6941-43fc-a8a3-4a831050ce2f",
   "metadata": {
    "id": "8d4ada6e-6941-43fc-a8a3-4a831050ce2f"
   },
   "source": [
    "# Problem **S1.2**\n",
    "\n",
    "You are going to work Supplementary Problem 1.2 in Julia.\n",
    "\n",
    "**Hints:**\n",
    "\n",
    "* The command `rand(5)` makes a vector of length 5 with random entries.\n",
    "* Use the tick operation to make transposes.  If `x` is a vector then `x'` is its transpose.\n",
    "* Multiplication is written with a `*`.\n",
    "* The command `zeros(5)` makes a vector of length 5 with all zero entries\n",
    "* The command `ones(5)` is like `zeros`, but with ones!\n",
    "\n",
    "For each of parts (a) - (d) you should present the vector `a` in one cell and then the value of $a^T x$ for a random vector `x` in a second cell.\n"
   ]
  },
  {
   "cell_type": "markdown",
   "id": "13fe9fb6-da79-4971-a92b-08bfa138ff07",
   "metadata": {
    "id": "13fe9fb6-da79-4971-a92b-08bfa138ff07"
   },
   "source": [
    "## (a)"
   ]
  },
  {
   "cell_type": "code",
   "execution_count": null,
   "id": "71b1b889-c45b-41c8-8c84-6b69d57ac3c9",
   "metadata": {
    "id": "71b1b889-c45b-41c8-8c84-6b69d57ac3c9"
   },
   "outputs": [],
   "source": []
  },
  {
   "cell_type": "code",
   "execution_count": null,
   "id": "1ca9d74d-d74a-4f77-a3a5-45b7ce12bd3f",
   "metadata": {},
   "outputs": [],
   "source": []
  },
  {
   "cell_type": "markdown",
   "id": "0f335cb3-e8ce-48eb-ba31-a7d73c5c00b8",
   "metadata": {
    "id": "0f335cb3-e8ce-48eb-ba31-a7d73c5c00b8"
   },
   "source": [
    "## (b)"
   ]
  },
  {
   "cell_type": "code",
   "execution_count": null,
   "id": "48820f57-e1ef-4802-a9a4-537cec987ec3",
   "metadata": {
    "id": "48820f57-e1ef-4802-a9a4-537cec987ec3"
   },
   "outputs": [],
   "source": []
  },
  {
   "cell_type": "code",
   "execution_count": null,
   "id": "d6ed3579-68eb-4fd3-8911-c232c86c8ffb",
   "metadata": {
    "id": "d6ed3579-68eb-4fd3-8911-c232c86c8ffb"
   },
   "outputs": [],
   "source": []
  },
  {
   "cell_type": "markdown",
   "id": "976bbe42-aa4c-4c7f-818d-736a78e803f8",
   "metadata": {
    "id": "976bbe42-aa4c-4c7f-818d-736a78e803f8"
   },
   "source": [
    "## (c)"
   ]
  },
  {
   "cell_type": "code",
   "execution_count": null,
   "id": "64745ff6-4a19-4f3c-9eae-2dffb14a5000",
   "metadata": {
    "id": "64745ff6-4a19-4f3c-9eae-2dffb14a5000"
   },
   "outputs": [],
   "source": []
  },
  {
   "cell_type": "code",
   "execution_count": null,
   "id": "e578e87e-22a1-433c-8c1a-f1c73b6b00b5",
   "metadata": {
    "id": "e578e87e-22a1-433c-8c1a-f1c73b6b00b5"
   },
   "outputs": [],
   "source": []
  },
  {
   "cell_type": "markdown",
   "id": "9b96714f-4d97-4ac3-a6c2-91079a51e35e",
   "metadata": {
    "id": "9b96714f-4d97-4ac3-a6c2-91079a51e35e"
   },
   "source": [
    "## (d)"
   ]
  },
  {
   "cell_type": "code",
   "execution_count": null,
   "id": "0991d677-7b7d-4d7e-bf5f-1e805d4a1860",
   "metadata": {
    "id": "0991d677-7b7d-4d7e-bf5f-1e805d4a1860"
   },
   "outputs": [],
   "source": []
  },
  {
   "cell_type": "code",
   "execution_count": null,
   "id": "98dab603-974e-4e33-b4ce-9a8b7e305d9b",
   "metadata": {
    "id": "98dab603-974e-4e33-b4ce-9a8b7e305d9b"
   },
   "outputs": [],
   "source": []
  },
  {
   "cell_type": "markdown",
   "id": "400616d9-5e6e-4f12-b024-8db4cf131294",
   "metadata": {
    "id": "400616d9-5e6e-4f12-b024-8db4cf131294"
   },
   "source": [
    "# Problem 1.10\n",
    "\n",
    "Solve the problem in your written homework.  But then also verify that you solution works by applying it to the vector `r` below.  You should find that the student earned an 86.92%. Pretty good!"
   ]
  },
  {
   "cell_type": "code",
   "execution_count": null,
   "id": "9d28791e-004d-4c09-a784-3cd3b560c6bc",
   "metadata": {
    "id": "9d28791e-004d-4c09-a784-3cd3b560c6bc",
    "outputId": "629eb580-3ae4-4e66-f03d-5c2b77bc3265"
   },
   "outputs": [],
   "source": []
  },
  {
   "cell_type": "code",
   "execution_count": null,
   "id": "2c93a9b6-91ab-4ec0-9a90-70911e470312",
   "metadata": {
    "id": "2c93a9b6-91ab-4ec0-9a90-70911e470312"
   },
   "outputs": [],
   "source": []
  },
  {
   "cell_type": "code",
   "execution_count": null,
   "id": "fc0182c8-199d-4e5d-9fc3-262b1a92e8c7",
   "metadata": {},
   "outputs": [],
   "source": []
  },
  {
   "cell_type": "code",
   "execution_count": null,
   "id": "1dced9a8-4c2b-409e-ae05-36ba977f60ed",
   "metadata": {},
   "outputs": [],
   "source": []
  }
 ],
 "metadata": {
  "colab": {
   "provenance": []
  },
  "kernelspec": {
   "display_name": "Julia 1.10.4",
   "language": "julia",
   "name": "julia-1.10"
  },
  "language_info": {
   "file_extension": ".jl",
   "mimetype": "application/julia",
   "name": "julia",
   "version": "1.10.4"
  }
 },
 "nbformat": 4,
 "nbformat_minor": 5
}
