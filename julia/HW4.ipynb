{
 "cells": [
  {
   "cell_type": "markdown",
   "id": "4a2d7b61-ac31-4f07-85ac-a51ca7a92ae3",
   "metadata": {},
   "source": [
    "# Homework 4 (Julia Problem)\n",
    "## Math 314 Fall 2024"
   ]
  },
  {
   "cell_type": "markdown",
   "id": "981bd612-4367-4d7a-8745-ce8b38910d0f",
   "metadata": {},
   "source": [
    "## Problem 5.5 (again)"
   ]
  },
  {
   "cell_type": "markdown",
   "id": "04cd119a-4b67-42cd-9fc7-8072a62f6569",
   "metadata": {},
   "source": [
    "On your written homework you showed that given vectors $a$ and $b$ there is a number $\\gamma$ with $(a-\\gamma b) \\perp b$.\n",
    "In fact you found a formula for $\\gamma$.\n",
    "\n",
    "Make a function called `ortho` that takes arguments `a` and `b`\n",
    "that are vectors and returns the vector `a-\\gamma*b` that is perpendicular to `b`."
   ]
  },
  {
   "cell_type": "code",
   "execution_count": 2,
   "id": "14c51f79-ced4-40b7-b64e-ee961296ba07",
   "metadata": {},
   "outputs": [],
   "source": [
    "# Your function `ortho` goes here."
   ]
  },
  {
   "cell_type": "markdown",
   "id": "a05cbe1a-d8f3-45c0-995f-a7bde5a090b8",
   "metadata": {},
   "source": [
    "Now test that your function works.  If `a=[2;3]` and `b=[2;0]` the result should be `[0;3]`."
   ]
  },
  {
   "cell_type": "code",
   "execution_count": 3,
   "id": "721459ac-3871-4d33-af00-610e85ed555f",
   "metadata": {},
   "outputs": [],
   "source": [
    "a = [2;3];\n",
    "b = [2;0];\n",
    "\n",
    "# Compute `ortho(a, b)` and verify that the result is\n",
    "# [3,0]."
   ]
  },
  {
   "cell_type": "markdown",
   "id": "a7df7ac8-bf85-4d95-bfe5-765e2bcbcdce",
   "metadata": {},
   "source": [
    "Here's another test to do.  Let `a` and `b` be the vectors below.  Verify that the output of `ortho(a,b)` is perpendicular to `b` by computing an inner product."
   ]
  },
  {
   "cell_type": "code",
   "execution_count": 5,
   "id": "41609361-ba66-4e9c-ba98-c211775773ad",
   "metadata": {},
   "outputs": [],
   "source": [
    "a = [ 1.3, -3.5, 4.7];\n",
    "b = [2, 5, -1.3];\n",
    "\n",
    "# Compute `ortho(a,b)` and verify that the result is\n",
    "# perpendicular to `b` by taking an inner product with `b`.\n",
    "# You won't get exactly zero, but you should get a tiny result."
   ]
  }
 ],
 "metadata": {
  "kernelspec": {
   "display_name": "Julia 1.10.4",
   "language": "julia",
   "name": "julia-1.10"
  },
  "language_info": {
   "file_extension": ".jl",
   "mimetype": "application/julia",
   "name": "julia",
   "version": "1.10.4"
  }
 },
 "nbformat": 4,
 "nbformat_minor": 5
}
