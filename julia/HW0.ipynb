{
 "cells": [
  {
   "cell_type": "markdown",
   "id": "9d57a321-eab1-4220-ad01-a05829ceb7aa",
   "metadata": {},
   "source": [
    "## Problem **S1.3** Revisited\n",
    "\n",
    "For each of the expressions (a)-(d) of problem **S1.3** which you already completed in the written part of the homework, use Julia to compute the resulting value (or generate an error in the event that the expression is invalid)."
   ]
  },
  {
   "cell_type": "code",
   "execution_count": 1,
   "id": "46935ae7-79a3-4747-a518-2373e5345dd7",
   "metadata": {},
   "outputs": [
    {
     "data": {
      "text/plain": [
       "3-element Vector{Int64}:\n",
       "  4\n",
       " -2\n",
       "  1"
      ]
     },
     "execution_count": 1,
     "metadata": {},
     "output_type": "execute_result"
    }
   ],
   "source": [
    "a = [ 4, -2, 1 ]"
   ]
  },
  {
   "cell_type": "markdown",
   "id": "c5ecb278-2551-4f2d-87ce-4569f1a3e27f",
   "metadata": {},
   "source": [
    "### Part (a)"
   ]
  },
  {
   "cell_type": "code",
   "execution_count": null,
   "id": "9dd778a8-ac74-4fb3-bcd1-876fbe942124",
   "metadata": {},
   "outputs": [],
   "source": []
  },
  {
   "cell_type": "markdown",
   "id": "e75b669a-d198-4100-9aca-43455ee4c3e9",
   "metadata": {},
   "source": [
    "### Part (b)\n",
    "\n",
    "Ok, so this one is a little special.  The notation $[4, -2, 0]$ with square brackets instead of parentheses in your text will refer to a \"row-vector\", and we'll discuss them in Chapter 6.  For now, all you need to  know is that to enter a row vector in Julia, use square brackets but no commas, like this: `[4 -2 0]`"
   ]
  },
  {
   "cell_type": "code",
   "execution_count": null,
   "id": "1afef59b-a21c-453a-8521-c8858b2f150e",
   "metadata": {},
   "outputs": [],
   "source": []
  },
  {
   "cell_type": "markdown",
   "id": "58b21684-9284-48cd-b72b-019b6fb5ff50",
   "metadata": {},
   "source": [
    "### Part (c)"
   ]
  },
  {
   "cell_type": "code",
   "execution_count": null,
   "id": "086f907c-4747-4ad1-a7be-55cd015503c9",
   "metadata": {},
   "outputs": [],
   "source": []
  },
  {
   "cell_type": "markdown",
   "id": "eaa2dbe0-1731-4215-8eac-0b498f697982",
   "metadata": {},
   "source": [
    "### Part (d)"
   ]
  },
  {
   "cell_type": "code",
   "execution_count": null,
   "id": "7c483c62-95e7-4112-a7be-52a019ee8dd2",
   "metadata": {},
   "outputs": [],
   "source": []
  }
 ],
 "metadata": {
  "kernelspec": {
   "display_name": "Julia 1.10.4",
   "language": "julia",
   "name": "julia-1.10"
  },
  "language_info": {
   "file_extension": ".jl",
   "mimetype": "application/julia",
   "name": "julia",
   "version": "1.10.4"
  }
 },
 "nbformat": 4,
 "nbformat_minor": 5
}
