{
 "cells": [
  {
   "cell_type": "markdown",
   "id": "4a2d7b61-ac31-4f07-85ac-a51ca7a92ae3",
   "metadata": {},
   "source": [
    "# Homework 7 (Julia Problems)\n",
    "## Math 314 Fall 2024"
   ]
  },
  {
   "cell_type": "markdown",
   "id": "981bd612-4367-4d7a-8745-ce8b38910d0f",
   "metadata": {},
   "source": [
    "## Problem 8.11 (again)\n",
    "\n",
    "The point of this exercise is to implement the ideas of problem 8.11 with some concrete data.\n",
    "\n",
    "We have the following four known locations:"
   ]
  },
  {
   "cell_type": "code",
   "execution_count": 47,
   "id": "7e2531da-bd73-487a-8622-e84d437377f7",
   "metadata": {},
   "outputs": [],
   "source": [
    "p1 = [ 0.2,  1.5, -0.5];\n",
    "p2 = [-0.5, -2.0,  0.6];\n",
    "p3 = [ 3.5, -1.4,  4.0];\n",
    "p4 = [-2.6,  4.0,  1.9];"
   ]
  },
  {
   "cell_type": "markdown",
   "id": "c04a54d3-34e2-426d-b181-f19f6968c67e",
   "metadata": {},
   "source": [
    "We also have an unknown point $x$, and our goal is to determine the point.  \n",
    "\n",
    "To help us, we know the distances $\\rho_i$ from $x$ to $p_i$."
   ]
  },
  {
   "cell_type": "code",
   "execution_count": 50,
   "id": "2904c63f-7c06-4a2f-aa59-a10a6d5ebdea",
   "metadata": {},
   "outputs": [],
   "source": [
    "rho = [ 4.582597516692907, 6.688961055350823, 7.433316890863728, 8.65032947349406];"
   ]
  },
  {
   "cell_type": "markdown",
   "id": "5fe8df8d-94ba-4681-a202-cb985f45128d",
   "metadata": {},
   "source": [
    "### Your job\n",
    "\n",
    "Determine the point $x$ by solving the linear system $Ax=b$ with the matrix $A$  and the vector $b$ corresponding to the linear system you built in problem 8.11.\n",
    "\n",
    "To build the matrix, you might find it helfpul to take advantage of the following Julia constructs:\n",
    "\n",
    "1) To turn a column vector into a row vector you use the transpose operation: `x'`\n",
    "2) You can specify a matrix using block notation. For example, if `w1`, `w2` and `w3` are\n",
    "   3x1 row vectors then `[w1; w2; w2]` is a 3x3 matrix with each row being one of the `w`'s.\n",
    "\n"
   ]
  },
  {
   "cell_type": "code",
   "execution_count": null,
   "id": "949ef843-c279-4d06-8e2e-d3016a4136e8",
   "metadata": {},
   "outputs": [],
   "source": [
    "# Code that builds the matrix `A` goes here."
   ]
  },
  {
   "cell_type": "code",
   "execution_count": null,
   "id": "51f0d6aa-9211-431a-b4f8-0c86b8f410a7",
   "metadata": {},
   "outputs": [],
   "source": [
    "# Code that builds the right-hand side vector goes here"
   ]
  },
  {
   "cell_type": "markdown",
   "id": "fe929ef2-0ca9-4b95-b77e-1f05980ff6ec",
   "metadata": {},
   "source": [
    "To solve a system of the form $Ax = b$ in Julia you use the following notation:\n",
    "\n",
    "`A \\ b`\n",
    "\n",
    "This funny backslash notation returns a vector `x` such that `A*x = b`.\n",
    "\n",
    "Anyway, solve the system $Ax=b$ and determine the vector $x$."
   ]
  },
  {
   "cell_type": "code",
   "execution_count": null,
   "id": "d89ed2f1-38d5-425f-b147-d0bf8f13fa37",
   "metadata": {},
   "outputs": [],
   "source": [
    "# Solve the system"
   ]
  },
  {
   "cell_type": "markdown",
   "id": "8e72347a-b26f-4c96-908c-ace3211bef63",
   "metadata": {},
   "source": [
    "### Verification\n",
    "\n",
    "Verify that the point you found is correct by confirming that the distances are correct.\n",
    "\n",
    "Assuming you've saved $x$ in a variable called `x`, the following code will make a vector `my_rho` with the distance from `x` to each of `p1` through `p4`."
   ]
  },
  {
   "cell_type": "code",
   "execution_count": null,
   "id": "3418faa1-5233-4122-8e8f-1a6c1d6862ca",
   "metadata": {},
   "outputs": [],
   "source": [
    "function dist(a,b)\n",
    "    diff = b-a\n",
    "    return sqrt(diff'*diff)\n",
    "end\n",
    "\n",
    "my_rho = [ dist(x,p) for p in [p1, p2, p3, p4] ]"
   ]
  },
  {
   "cell_type": "markdown",
   "id": "58a4c39e-53ba-45c1-b373-7ef4fdc7b966",
   "metadata": {},
   "source": [
    "If everything worked, `rho` and `my_rho` should be the same and their difference should be close to zero."
   ]
  },
  {
   "cell_type": "code",
   "execution_count": null,
   "id": "ef7f63b2-4bab-49a3-a92d-e8ad3e192ffd",
   "metadata": {},
   "outputs": [],
   "source": [
    "rho - my_rho"
   ]
  },
  {
   "cell_type": "code",
   "execution_count": null,
   "id": "1318320e-0b6f-4a0b-84bb-791507771179",
   "metadata": {},
   "outputs": [],
   "source": []
  }
 ],
 "metadata": {
  "kernelspec": {
   "display_name": "Julia 1.10.4",
   "language": "julia",
   "name": "julia-1.10"
  },
  "language_info": {
   "file_extension": ".jl",
   "mimetype": "application/julia",
   "name": "julia",
   "version": "1.10.4"
  }
 },
 "nbformat": 4,
 "nbformat_minor": 5
}
